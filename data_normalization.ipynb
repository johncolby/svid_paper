{
 "cells": [
  {
   "cell_type": "markdown",
   "metadata": {},
   "source": [
    "# Data normalization\n",
    "Script to pre-compute image volume means and standard deviations on a per-subject and per-channel basis."
   ]
  },
  {
   "cell_type": "code",
   "execution_count": null,
   "metadata": {},
   "outputs": [],
   "source": [
    "from __future__ import print_function\n",
    "\n",
    "%reload_ext rpy2.ipython\n",
    "\n",
    "import os\n",
    "import numpy as np\n",
    "from tqdm import tqdm\n",
    "\n",
    "import mxnet as mx\n",
    "from mxnet import gluon, autograd, ndarray as nd\n",
    "from mxnet.gluon import nn, utils\n",
    "\n",
    "import gluoncv\n",
    "\n",
    "from unet import *"
   ]
  },
  {
   "cell_type": "markdown",
   "metadata": {},
   "source": [
    "***\n",
    "## Setup hyperparameters"
   ]
  },
  {
   "cell_type": "code",
   "execution_count": null,
   "metadata": {},
   "outputs": [],
   "source": [
    "data_dir = '/datasets/brats_2018/'\n",
    "split = 'test'\n",
    "crop_size = [240, 240, 155]"
   ]
  },
  {
   "cell_type": "markdown",
   "metadata": {},
   "source": [
    "***\n",
    "## Setup data loader"
   ]
  },
  {
   "cell_type": "code",
   "execution_count": null,
   "metadata": {},
   "outputs": [],
   "source": [
    "dataset = MRISegDataset(root=data_dir, split=split, mode='val', crop_size=crop_size)"
   ]
  },
  {
   "cell_type": "markdown",
   "metadata": {},
   "source": [
    "***\n",
    "## Plot before normalization"
   ]
  },
  {
   "cell_type": "code",
   "execution_count": null,
   "metadata": {},
   "outputs": [],
   "source": [
    "img, mask = dataset[0]\n",
    "img = img.asnumpy()"
   ]
  },
  {
   "cell_type": "code",
   "execution_count": null,
   "metadata": {},
   "outputs": [],
   "source": [
    "%%R -i img -w 800 -h 300 -u px\n",
    "\n",
    "library(neurobase)\n",
    "ortho2(img[1,,,], mfrow=c(1,3))\n",
    "ortho2(img[2,,,], mfrow=c(1,3))\n",
    "ortho2(img[3,,,], mfrow=c(1,3))\n",
    "ortho2(img[4,,,], mfrow=c(1,3))"
   ]
  },
  {
   "cell_type": "markdown",
   "metadata": {},
   "source": [
    "***\n",
    "## Calculate mean and standard deviation for each channel"
   ]
  },
  {
   "cell_type": "code",
   "execution_count": null,
   "metadata": {},
   "outputs": [],
   "source": [
    "means = np.zeros((len(dataset), 4))\n",
    "stds  = np.zeros((len(dataset), 4))\n",
    "means_brain = np.zeros((len(dataset), 4))\n",
    "stds_brain  = np.zeros((len(dataset), 4))\n",
    "for i, (data, _) in enumerate(tqdm(dataset)):\n",
    "    data = data.asnumpy()\n",
    "    #import pdb; pdb.set_trace()\n",
    "    means[i,] = data.mean(axis=(1,2,3))\n",
    "    stds[i,]  = data.std(axis=(1,2,3))\n",
    "    means_brain[i,] = [data[i,][data[i,]!=0].mean() for i in range(len(data))]\n",
    "    stds_brain[i,]  = [data[i,][data[i,]!=0].std() for i in range(len(data))]"
   ]
  },
  {
   "cell_type": "code",
   "execution_count": null,
   "metadata": {},
   "outputs": [],
   "source": [
    "means.shape"
   ]
  },
  {
   "cell_type": "code",
   "execution_count": null,
   "metadata": {
    "keep_output": true
   },
   "outputs": [
    {
     "data": {
      "text/plain": [
       "\n",
       "[[  56.3145     59.84573    69.92895    19.383139]\n",
       " [1998.7661   3222.0166    928.2562   1023.20355 ]\n",
       " [  31.252329   57.07835    62.944374   27.433558]\n",
       " [  21.099354   52.989193   58.160217   63.534687]\n",
       " [1673.3604    301.92923  1056.7434    109.46807 ]]\n",
       "<NDArray 5x4 @cpu(0)>"
      ]
     },
     "execution_count": null,
     "metadata": {},
     "output_type": "execute_result"
    }
   ],
   "source": [
    "means[0:5]"
   ]
  },
  {
   "cell_type": "code",
   "execution_count": null,
   "metadata": {
    "keep_output": true
   },
   "outputs": [
    {
     "data": {
      "text/plain": [
       "\n",
       "[[ 130.07066   138.5119    165.58444    47.049816]\n",
       " [4662.2095   7283.09     2231.2769   2641.809   ]\n",
       " [  72.384964  128.39795   141.77567    65.835526]\n",
       " [  48.26763   118.698135  129.40108   148.4802  ]\n",
       " [4093.1006    730.0079   2565.0227    260.89902 ]]\n",
       "<NDArray 5x4 @cpu(0)>"
      ]
     },
     "execution_count": null,
     "metadata": {},
     "output_type": "execute_result"
    }
   ],
   "source": [
    "stds[0:5]"
   ]
  },
  {
   "cell_type": "code",
   "execution_count": null,
   "metadata": {
    "keep_output": true
   },
   "outputs": [
    {
     "data": {
      "text/plain": [
       "\n",
       "[[  339.7907     361.09753    421.93762    116.954155]\n",
       " [11859.168    19110.395     5505.6636    6071.094   ]\n",
       " [  176.2342     321.84174    354.91797    154.72408 ]\n",
       " [  119.89242    301.09924    330.48288    361.02173 ]\n",
       " [10675.427     1926.197     6741.636      698.36597 ]]\n",
       "<NDArray 5x4 @cpu(0)>"
      ]
     },
     "execution_count": null,
     "metadata": {},
     "output_type": "execute_result"
    }
   ],
   "source": [
    "means_brain[0:5]"
   ]
  },
  {
   "cell_type": "code",
   "execution_count": null,
   "metadata": {
    "keep_output": true
   },
   "outputs": [
    {
     "data": {
      "text/plain": [
       "\n",
       "[[  75.88576    83.545044  130.04083    44.10836 ]\n",
       " [3468.2944   3312.729    2080.215    3280.8374  ]\n",
       " [  63.213596   88.01173    98.54435    68.92459 ]\n",
       " [  37.33251    73.16446    71.76831   133.69878 ]\n",
       " [3283.389     520.72345  1910.0692    151.60114 ]]\n",
       "<NDArray 5x4 @cpu(0)>"
      ]
     },
     "execution_count": null,
     "metadata": {},
     "output_type": "execute_result"
    }
   ],
   "source": [
    "stds_brain[0:5]"
   ]
  },
  {
   "cell_type": "code",
   "execution_count": null,
   "metadata": {},
   "outputs": [],
   "source": [
    "np.savez_compressed('../data/normalization_stats_' + split + '.npz', \n",
    "                    means       = means, \n",
    "                    stds        = stds, \n",
    "                    means_brain = means_brain, \n",
    "                    stds_brain  = stds_brain)"
   ]
  },
  {
   "cell_type": "markdown",
   "metadata": {},
   "source": [
    "***\n",
    "## Confirm normalization"
   ]
  },
  {
   "cell_type": "markdown",
   "metadata": {},
   "source": [
    "### Load example subject"
   ]
  },
  {
   "cell_type": "code",
   "execution_count": null,
   "metadata": {},
   "outputs": [],
   "source": [
    "data = np.load('../data/normalization_stats_' + split + '.npz')\n",
    "means       = nd.array(data['means'])\n",
    "stds        = nd.array(data['stds'])\n",
    "means_brain = nd.array(data['means_brain'])\n",
    "stds_brain  = nd.array(data['stds_brain'])"
   ]
  },
  {
   "cell_type": "code",
   "execution_count": null,
   "metadata": {},
   "outputs": [],
   "source": [
    "def transform(img, means, stds):\n",
    "    means = means.reshape(-1,1,1,1)\n",
    "    stds  = stds.reshape(-1,1,1,1)\n",
    "    return (img - means) / stds"
   ]
  },
  {
   "cell_type": "code",
   "execution_count": null,
   "metadata": {},
   "outputs": [],
   "source": [
    "dataset = MRISegDataset(root=data_dir, split=split, mode='val', crop_size=crop_size, transform=transform, means=means, stds=stds)"
   ]
  },
  {
   "cell_type": "code",
   "execution_count": null,
   "metadata": {},
   "outputs": [],
   "source": [
    "data = dataset[0][0].asnumpy()"
   ]
  },
  {
   "cell_type": "markdown",
   "metadata": {},
   "source": [
    "### Calculate `mean` and `std`"
   ]
  },
  {
   "cell_type": "markdown",
   "metadata": {},
   "source": [
    "(Should be `mean=0`, `std=1`)"
   ]
  },
  {
   "cell_type": "code",
   "execution_count": null,
   "metadata": {},
   "outputs": [],
   "source": [
    "[data[i,].mean() for i in range(len(data))]"
   ]
  },
  {
   "cell_type": "code",
   "execution_count": null,
   "metadata": {},
   "outputs": [],
   "source": [
    "[data[i,].std() for i in range(len(data))]"
   ]
  },
  {
   "cell_type": "markdown",
   "metadata": {},
   "source": [
    "***\n",
    "## Plot after normalization"
   ]
  },
  {
   "cell_type": "code",
   "execution_count": null,
   "metadata": {},
   "outputs": [],
   "source": [
    "dataset = MRISegDataset(root=data_dir, split=split, mode='val', crop_size=crop_size, transform=transform, means=means_brain, stds=stds_brain)"
   ]
  },
  {
   "cell_type": "code",
   "execution_count": null,
   "metadata": {},
   "outputs": [],
   "source": [
    "img, mask = dataset[0]\n",
    "img = img.asnumpy()"
   ]
  },
  {
   "cell_type": "code",
   "execution_count": null,
   "metadata": {},
   "outputs": [],
   "source": [
    "%%R -i img -w 800 -h 300 -u px\n",
    "\n",
    "library(neurobase)\n",
    "ortho2(img[1,,,], mfrow=c(1,3), window=c(-4,4))\n",
    "ortho2(img[2,,,], mfrow=c(1,3), window=c(-4,4))\n",
    "ortho2(img[3,,,], mfrow=c(1,3), window=c(-4,4))\n",
    "ortho2(img[4,,,], mfrow=c(1,3), window=c(-4,4))"
   ]
  },
  {
   "cell_type": "code",
   "execution_count": null,
   "metadata": {},
   "outputs": [],
   "source": []
  }
 ],
 "metadata": {
  "kernelspec": {
   "display_name": "Python [conda env:unet]",
   "language": "python",
   "name": "conda-env-unet-py"
  },
  "language_info": {
   "codemirror_mode": {
    "name": "ipython",
    "version": 3
   },
   "file_extension": ".py",
   "mimetype": "text/x-python",
   "name": "python",
   "nbconvert_exporter": "python",
   "pygments_lexer": "ipython3",
   "version": "3.7.0"
  }
 },
 "nbformat": 4,
 "nbformat_minor": 2
}
