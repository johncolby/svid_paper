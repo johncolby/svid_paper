{
 "cells": [
  {
   "cell_type": "markdown",
   "metadata": {},
   "source": [
    "# Predict training CV out-of-fold samples (i.e. internal validation set)"
   ]
  },
  {
   "cell_type": "code",
   "execution_count": null,
   "metadata": {},
   "outputs": [],
   "source": [
    "%reload_ext rpy2.ipython\n",
    "\n",
    "import os\n",
    "import re\n",
    "import argparse\n",
    "import nibabel as nib\n",
    "import numpy as np\n",
    "from tqdm import tqdm_notebook as tqdm\n",
    "\n",
    "import mxnet as mx\n",
    "from mxnet import gluon, ndarray as nd\n",
    "\n",
    "from unet import *"
   ]
  },
  {
   "cell_type": "markdown",
   "metadata": {},
   "source": [
    "***\n",
    "## Setup hyperparameters"
   ]
  },
  {
   "cell_type": "code",
   "execution_count": null,
   "metadata": {},
   "outputs": [],
   "source": [
    "args = argparse.Namespace()\n",
    "\n",
    "args.data_dir = '../brats_2018_4D'\n",
    "args.weights_dir = '../params/svid5/training_cv/ensemble/'\n",
    "args.output_dir = '../predictions/training__svid5__training_cv_190504'\n",
    "\n",
    "args.folds = np.arange(10)\n",
    "\n",
    "# Training\n",
    "args.num_workers = 1\n",
    "# GPU_COUNT = 1\n",
    "# args.ctx = [mx.gpu(i) for i in range(GPU_COUNT)]\n",
    "args.ctx = [mx.gpu(0)]\n",
    "\n",
    "# Unet\n",
    "args.num_downs = 4 # Number of encoding/downsampling layers\n",
    "args.classes = 5 # Number of classes for segmentation, including background\n",
    "args.ngf = 32 # Number of channels in base/outermost layer\n",
    "args.use_bias = True # For conv blocks\n",
    "args.use_global_stats = True # For BN blocks\n",
    "\n",
    "# Pre/post-processing\n",
    "args.pad_size_val = [240, 240, 160] # Should be input vol dims unless 'crop_size_val' is larger\n",
    "args.crop_size_val = [240, 240, 160] # Should be divisible by 2^num_downs\n",
    "args.overlap = 0 # Fractional overlap for val patch prediction, combined with voting\n",
    "args.output_dims = [240, 240, 155]"
   ]
  },
  {
   "cell_type": "markdown",
   "metadata": {},
   "source": [
    "***\n",
    "## Load normalization data"
   ]
  },
  {
   "cell_type": "code",
   "execution_count": null,
   "metadata": {},
   "outputs": [],
   "source": [
    "data = np.load('normalization_stats.npz')\n",
    "means       = nd.array(data['means'])\n",
    "stds        = nd.array(data['stds'])\n",
    "means_brain = nd.array(data['means_brain'])\n",
    "stds_brain  = nd.array(data['stds_brain'])"
   ]
  },
  {
   "cell_type": "markdown",
   "metadata": {},
   "source": [
    "***\n",
    "## Setup model and load ensemble weights"
   ]
  },
  {
   "cell_type": "code",
   "execution_count": null,
   "metadata": {},
   "outputs": [],
   "source": [
    "model = UnetGenerator(num_downs        = args.num_downs, \n",
    "                      classes          = args.classes, \n",
    "                      ngf              = args.ngf, \n",
    "                      use_bias         = args.use_bias, \n",
    "                      use_global_stats = args.use_global_stats)"
   ]
  },
  {
   "cell_type": "code",
   "execution_count": null,
   "metadata": {},
   "outputs": [],
   "source": [
    "model.collect_params().initialize(force_reinit=True, ctx=args.ctx)"
   ]
  },
  {
   "cell_type": "code",
   "execution_count": null,
   "metadata": {},
   "outputs": [],
   "source": [
    "weights_paths = [os.path.join(args.weights_dir, X) for X in sorted(os.listdir(args.weights_dir))]\n",
    "weights_folds = np.array([int(re.sub('.*fold([0-9]).*', r'\\1', os.path.basename(X))) for X in weights_paths])\n",
    "ikeep = np.where(np.isin(weights_folds, args.folds))[0]\n",
    "weights_paths = [weights_paths[i] for i in ikeep]"
   ]
  },
  {
   "cell_type": "markdown",
   "metadata": {},
   "source": [
    "***\n",
    "## Predict out-of-fold validation data"
   ]
  },
  {
   "cell_type": "code",
   "execution_count": null,
   "metadata": {},
   "outputs": [],
   "source": [
    "if not os.path.exists(args.output_dir):\n",
    "    os.makedirs(args.output_dir)\n",
    "\n",
    "# Loop over folds\n",
    "for ifold, weights_path in enumerate(tqdm(weights_paths)):\n",
    "    # Determine fold\n",
    "    fold = re.sub('.*fold([0-9]).*', r'\\1', os.path.basename(weights_path))\n",
    "    fold_inds = get_k_folds(n=285, k=10, seed=1)[int(fold)]\n",
    "    \n",
    "    # Setup dataloader\n",
    "    valset = MRISegDataset4D(root=args.data_dir, split='val', mode='val', crop_size=args.pad_size_val, transform=brats_transform, means=means_brain, stds=stds_brain, fold_inds=fold_inds)\n",
    "    val_data = gluon.data.DataLoader(valset, batch_size=1, num_workers=args.num_workers, shuffle=False, last_batch='keep')\n",
    "    \n",
    "    # Load template NifTI header\n",
    "    if ifold == 0:\n",
    "        subdir = os.path.normpath(valset.paths()[0])\n",
    "        img_path = os.path.join(subdir, os.listdir(subdir)[0])\n",
    "        hdr = nib.load(img_path).header\n",
    "    \n",
    "    # Load model weights\n",
    "    model.load_parameters(weights_path, ctx=args.ctx[0])\n",
    "    \n",
    "    # Setup output dir\n",
    "    output_dir = os.path.join(args.output_dir, 'runs', os.path.basename(weights_path).split('.params')[0])\n",
    "    if not os.path.exists(output_dir):\n",
    "        os.makedirs(output_dir)\n",
    "        \n",
    "    # Loop over out-of-fold subjects\n",
    "    for isub, (data, _) in enumerate(tqdm(val_data)):\n",
    "        subID = os.path.basename(os.path.normpath(valset.paths()[isub]))\n",
    "        mask = brats_predict(model, data, args.crop_size_val, args.overlap, n_classes=args.classes, ctx=args.ctx[0])\n",
    "        mask = img_unpad(mask, args.output_dims) # Crop back to original BraTS dimensions\n",
    "        mask = np.flip(mask, 1) # Flip AP orientation back to original BraTS convention\n",
    "#         mask[mask == 3] = 4 # Convert tissue class labels back to original BraTS convension\n",
    "        mask = mask.astype(np.int16)\n",
    "        mask_nii = nib.Nifti1Image(mask, None, header=hdr)\n",
    "        mask_nii.to_filename(os.path.join(output_dir, subID + '.nii.gz'))"
   ]
  },
  {
   "cell_type": "markdown",
   "metadata": {},
   "source": [
    "***\n",
    "## Copy predictions into `final` directory"
   ]
  },
  {
   "cell_type": "markdown",
   "metadata": {},
   "source": [
    "```bash\n",
    "cd ~/Research/unet_brats/predictions/brats_training_cv\n",
    "mkdir final\n",
    "cp runs/*/* final/\n",
    "```"
   ]
  },
  {
   "cell_type": "code",
   "execution_count": null,
   "metadata": {},
   "outputs": [],
   "source": []
  }
 ],
 "metadata": {
  "kernelspec": {
   "display_name": "Python [conda env:unet]",
   "language": "python",
   "name": "conda-env-unet-py"
  },
  "language_info": {
   "codemirror_mode": {
    "name": "ipython",
    "version": 3
   },
   "file_extension": ".py",
   "mimetype": "text/x-python",
   "name": "python",
   "nbconvert_exporter": "python",
   "pygments_lexer": "ipython3",
   "version": "3.7.0"
  }
 },
 "nbformat": 4,
 "nbformat_minor": 2
}
